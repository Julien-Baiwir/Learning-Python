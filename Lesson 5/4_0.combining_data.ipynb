{
 "cells": [
  {
   "cell_type": "markdown",
   "metadata": {},
   "source": [
    "Combining Data Structures"
   ]
  },
  {
   "cell_type": "markdown",
   "metadata": {},
   "source": [
    "A List can have dictionaries, sets, and lists as the elements within it. You would have already seen an example of lists within list in the 2D list lesson.\n",
    "\n",
    "A Dictionary can have sets, lists, and dictionaries as the values within it. However, it’s important to note that the key of a dictionary cannot be any of these three types, as keys must be immutable (unchangeable after being created). This is why things like strings and integers can be keys, but lists, dictionaries, and sets cannot.\n",
    "\n",
    "Conversely, a Set cannot have a list, dictionary, or another set contained within it. This is for the same reason as for keys in dictionaries. All of the elements in a set must be immutable, which disqualifies these three data structures."
   ]
  },
  {
   "cell_type": "markdown",
   "metadata": {},
   "source": [
    "Thesaurus\n",
    "In the traditional sense, a thesaurus is a book that is similar to a dictionary "
   ]
  },
  {
   "cell_type": "code",
   "execution_count": null,
   "metadata": {},
   "outputs": [],
   "source": [
    "thesaurus = {\n",
    "  'strong' : {'mighty', 'tough', 'robust'},\n",
    "  'small' : {'tiny', 'little'},\n",
    "  'fast' : {'speedy', 'quick'},\n",
    "  'calm' : {'mellow', 'chill', 'relaxed', 'peaceful'},\n",
    "}"
   ]
  },
  {
   "cell_type": "markdown",
   "metadata": {},
   "source": [
    "This provides a much better structure for the needs of a thesaurus. Notice how this involved combining two types of structures: one dictionary, containing many sets as values within. \n",
    "This could be written in function for by doing the following, with the thesaurus dictionary being the parameter:"
   ]
  },
  {
   "cell_type": "code",
   "execution_count": null,
   "metadata": {},
   "outputs": [],
   "source": [
    "def find_similar_words(thesaurus):\n",
    "    primary_word = input('What word do you want to find similar words for? ')\n",
    "    if primary_word in thesaurus:\n",
    "        print('Here are some ideas:')\n",
    "        for word in thesaurus[primary_word]:\n",
    "            print('  ' + word)\n",
    "    else:\n",
    "        print('I don\\'t know about that word!')"
   ]
  },
  {
   "cell_type": "markdown",
   "metadata": {},
   "source": [
    "Another function that may be useful is one that can add a new words to the thesaurus, provided by the user. Arrange the lines of code below to complete this function."
   ]
  },
  {
   "cell_type": "code",
   "execution_count": null,
   "metadata": {},
   "outputs": [],
   "source": [
    "def add_word(thesaurus):\n",
    "    base_word = input ('Enter the base word: ')\n",
    "    similar_word = input ('Enter the similar word :')\n",
    "    if base_word in thesaurus:\n",
    "        thesaurus[base_word].add(similar_word)\n",
    "    else:\n",
    "        thesaurus[base_word] = {similar_word}\n",
    "add_word(thesaurus)\n",
    "print(thesaurus)"
   ]
  },
  {
   "cell_type": "markdown",
   "metadata": {},
   "source": [
    "Employee Information"
   ]
  },
  {
   "cell_type": "code",
   "execution_count": null,
   "metadata": {},
   "outputs": [],
   "source": [
    "employees = [\n",
    "  {'name':'Samantha Oxford', 'title':'Sr Attorney', 'salary':200000},\n",
    "  {'name':'Jim Doyle', 'title': 'Jr Engineer', 'salary':85000, 'office':'Atlanta'},\n",
    "  {'name':'Rebecca Jameson', 'title': 'Sales', 'commision': 2},\n",
    "  {'name':'Stanley Reed'},\n",
    "]\n",
    "\n",
    "def lookup_employee(employees):\n",
    "    name = input('Employee name: ')\n",
    "    for employee in employees:\n",
    "        if 'name' in employee and employee['name'] == name:\n",
    "            print('Information for ' + name + ':')\n",
    "            for key, value in employee.items():\n",
    "                print('  ' + str(key) + ' -> ' + str(value))\n",
    "            return\n",
    "        \n",
    "lookup_employee(employees) "
   ]
  },
  {
   "cell_type": "code",
   "execution_count": null,
   "metadata": {},
   "outputs": [],
   "source": []
  }
 ],
 "metadata": {
  "kernelspec": {
   "display_name": "Python 3",
   "language": "python",
   "name": "python3"
  },
  "language_info": {
   "codemirror_mode": {
    "name": "ipython",
    "version": 3
   },
   "file_extension": ".py",
   "mimetype": "text/x-python",
   "name": "python",
   "nbconvert_exporter": "python",
   "pygments_lexer": "ipython3",
   "version": "3.12.2"
  }
 },
 "nbformat": 4,
 "nbformat_minor": 2
}
