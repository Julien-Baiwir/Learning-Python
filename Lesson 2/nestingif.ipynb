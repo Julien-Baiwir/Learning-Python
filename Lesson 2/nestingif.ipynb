{
 "cells": [
  {
   "cell_type": "markdown",
   "metadata": {},
   "source": [
    "Nesting If-Statements"
   ]
  },
  {
   "cell_type": "code",
   "execution_count": null,
   "metadata": {},
   "outputs": [],
   "source": [
    "x = int(input(\"What is x? \"))\n",
    "y = int(input(\"What is y? \"))\n",
    "if x > y:\n",
    "    if y*2 == x:\n",
    "        if y < x-20:\n",
    "            if y == 100:\n",
    "                print(\"I reached this line!\")\n",
    "            else:\n",
    "                print(\"Else A\")\n",
    "        else:\n",
    "            print(\"Else B\")\n",
    "    else:\n",
    "        print(\"Else C\")\n",
    "else:\n",
    "    print(\"Else D\")"
   ]
  },
  {
   "cell_type": "markdown",
   "metadata": {},
   "source": [
    "Though python supports an indefinite level of nesting, there can come a point where it becomes too confusing for humans to easily understand. Due to this, it is good practice to avoid nesting if-statements beyond 2 or 3 levels deep."
   ]
  }
 ],
 "metadata": {
  "kernelspec": {
   "display_name": "Python 3",
   "language": "python",
   "name": "python3"
  },
  "language_info": {
   "name": "python",
   "version": "3.12.2"
  }
 },
 "nbformat": 4,
 "nbformat_minor": 2
}
