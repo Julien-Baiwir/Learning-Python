{
 "cells": [
  {
   "cell_type": "markdown",
   "metadata": {},
   "source": [
    "Variables and Concatenation"
   ]
  },
  {
   "cell_type": "code",
   "execution_count": null,
   "metadata": {},
   "outputs": [],
   "source": [
    "print('James: Hi Luke, long time since we talked last.')\n",
    "print('Luke: Hi James! How have you been?')\n",
    "print('James: I have been well. Do you wanna go get lunch?')\n",
    "print('Luke: Yes!')\n",
    "print('James: Great, we can meet at In-n-Out burger next week')"
   ]
  },
  {
   "cell_type": "code",
   "execution_count": null,
   "metadata": {},
   "outputs": [],
   "source": [
    "character_1 = 'John'\n",
    "character_2 = 'Luke'\n",
    "print(character_1 + ': Hi ' + character_2 + ', long time since we talked last.')\n",
    "print(character_2 + ': Hi ' + character_1 + '! How have you been?')\n",
    "print(character_1 + ': I have been well. Do you wanna go get lunch?')\n",
    "print(character_2 + ': Yes!')\n",
    "print(character_1 + ': Great, we can meet at In-n-Out burger next week')"
   ]
  },
  {
   "cell_type": "code",
   "execution_count": null,
   "metadata": {},
   "outputs": [],
   "source": [
    "character_1 = 'James'\n",
    "character_2 = 'Luke'\n",
    "print(character_1 + ': Hi ' + character_2 + ', long time since we talked last.')\n",
    "print(character_2 + ': Hi ' + character_1 + '! How have you been?')\n",
    "print(character_1 + ': I have been well. Do you wanna go get lunch?')\n",
    "print(character_2 + ': Yes!')\n",
    "print(character_1 + ': Great, we can meet at In-n-Out burger next week')"
   ]
  },
  {
   "cell_type": "code",
   "execution_count": null,
   "metadata": {},
   "outputs": [],
   "source": [
    "value_1 = 'bear'\n",
    "value_2 = 'cheetah'\n",
    "print(value_1, value_2)\n",
    "print(value_1 + value_2)"
   ]
  },
  {
   "cell_type": "markdown",
   "metadata": {},
   "source": [
    "The Input Function"
   ]
  },
  {
   "cell_type": "code",
   "execution_count": null,
   "metadata": {},
   "outputs": [],
   "source": [
    "character_1 = input('Name for character 1: ')\n",
    "character_2 = input('Name for character 2: ')\n",
    "print(character_1 + ': Hi ' + character_2 + ', long time since we talked last.')\n",
    "print(character_2 + ': Hi ' + character_1 + '! How have you been?')\n",
    "print(character_1 + ': I have been well. Do you wanna go get lunch?')\n",
    "print(character_2 + ': Yes!')\n",
    "print(character_1 + ': Great, we can meet at In-n-Out burger next week')"
   ]
  },
  {
   "cell_type": "code",
   "execution_count": null,
   "metadata": {},
   "outputs": [],
   "source": [
    "letter = input('Type a letter to use for the Christmas tree: ')\n",
    "print('  ' + letter)\n",
    "print(' ' + letter + letter + letter)\n",
    "print(letter + letter + letter + letter + letter)\n",
    "print('  |  ')"
   ]
  }
 ],
 "metadata": {
  "kernelspec": {
   "display_name": "Python 3",
   "language": "python",
   "name": "python3"
  },
  "language_info": {
   "codemirror_mode": {
    "name": "ipython",
    "version": 3
   },
   "file_extension": ".py",
   "mimetype": "text/x-python",
   "name": "python",
   "nbconvert_exporter": "python",
   "pygments_lexer": "ipython3",
   "version": "3.12.2"
  }
 },
 "nbformat": 4,
 "nbformat_minor": 2
}
