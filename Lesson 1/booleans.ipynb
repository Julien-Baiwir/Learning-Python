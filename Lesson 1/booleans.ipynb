{
 "cells": [
  {
   "cell_type": "code",
   "execution_count": 1,
   "metadata": {},
   "outputs": [
    {
     "name": "stdout",
     "output_type": "stream",
     "text": [
      "True False\n"
     ]
    }
   ],
   "source": [
    "the_sky_is_blue = True\n",
    "food_is_bad = False\n",
    "print(the_sky_is_blue, food_is_bad)"
   ]
  },
  {
   "cell_type": "code",
   "execution_count": 3,
   "metadata": {},
   "outputs": [],
   "source": [
    "enough_money = 1000 > 100\n",
    "do_the_names_match = 'Ryan' == 'Rich'"
   ]
  },
  {
   "cell_type": "markdown",
   "metadata": {},
   "source": [
    "A < B results in True if A is less than B, False otherwise.\n",
    "A <= B results in True if A is less than or equal to B, False otherwise.\n",
    "A > B results in True if A is greater than B, False otherwise.\n",
    "A >= B results in True if A is greater than or equal to B, False otherwise.\n",
    "A == B results in True if A is equal to B, False otherwise.\n",
    "A != B results in True if A is not equal to B, False otherwise."
   ]
  },
  {
   "cell_type": "code",
   "execution_count": null,
   "metadata": {},
   "outputs": [],
   "source": [
    "home_cost = int(input('How much does the home cost? '))\n",
    "available_funds = int(input('How much money do you have immediately available? '))\n",
    "down_payment = home_cost * 0.2\n",
    "if available_funds >= down_payment:\n",
    "    print('You can afford the down payment!')"
   ]
  }
 ],
 "metadata": {
  "kernelspec": {
   "display_name": "Python 3",
   "language": "python",
   "name": "python3"
  },
  "language_info": {
   "codemirror_mode": {
    "name": "ipython",
    "version": 3
   },
   "file_extension": ".py",
   "mimetype": "text/x-python",
   "name": "python",
   "nbconvert_exporter": "python",
   "pygments_lexer": "ipython3",
   "version": "3.12.2"
  }
 },
 "nbformat": 4,
 "nbformat_minor": 2
}
