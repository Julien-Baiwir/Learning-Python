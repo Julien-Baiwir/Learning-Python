{
 "cells": [
  {
   "cell_type": "markdown",
   "metadata": {},
   "source": [
    "Fichiers et structures de données en Python\n",
    "Introduction\n",
    "\n",
    "Les fichiers et les structures de données sont deux éléments fondamentaux pour la gestion et l'organisation des informations dans les programmes Python.\n",
    "\n",
    "Problématique\n",
    "\n",
    "Stocker de grandes quantités de données directement dans le code Python peut être fastidieux et peu flexible. De plus, la persistance des données n'est pas garantie si le programme est arrêté.\n",
    "\n",
    "Solution\n",
    "\n",
    "Utiliser des fichiers externes pour stocker les données et les charger dans des structures de données appropriées permet de :\n",
    "\n",
    "Améliorer la lisbilité et la maintenabilité du code.\n",
    "Séparer les données du code pour une meilleure modularité.\n",
    "Garantir la persistance des données même après l'arrêt du programme."
   ]
  },
  {
   "cell_type": "code",
   "execution_count": null,
   "metadata": {},
   "outputs": [],
   "source": [
    "thesaurus = {\n",
    "  'strong' : {'mighty', 'tough', 'robust'},\n",
    "  'small' : {'tiny', 'little'},\n",
    "  'fast' : {'speedy', 'quick'},\n",
    "  'calm' : {'mellow', 'chill', 'relaxed', 'peaceful'},\n",
    "#   Continue for THOUSANDS more words \n",
    "}"
   ]
  },
  {
   "cell_type": "markdown",
   "metadata": {},
   "source": [
    " A good principle when designing software is to keep the code and the data separate\n",
    " The developer of this program could create a file called thesaurus.txt with the following format:\n",
    " strong : \n",
    "mighty tough robust\n",
    "small : tiny little\n",
    "fast : speedy quick\n",
    "calm : mellow chill relaxed peaceful\n",
    "...\n",
    "Each base word gets its own line of the file, followed be a space-colon-space."
   ]
  },
  {
   "cell_type": "code",
   "execution_count": null,
   "metadata": {},
   "outputs": [],
   "source": [
    "thesaurus = { }\n",
    "\n",
    "def add_line(thes, line):\n",
    "    sp = line.split(' : ')\n",
    "    for word in sp[1].split(' '):\n",
    "        add_word(thes, sp[0], word)\n",
    "\n",
    "def load_thesaurus(thes):\n",
    "    f = open('thesaurus.txt', 'r')\n",
    "    lines = f.readlines()\n",
    "    for line in lines:\n",
    "        add_line(thes, line.strip('\\n'))\n",
    "        \n",
    "def save_thesaurus(thes):\n",
    "    f = open('thesaurus.txt', 'w')\n",
    "    for k, v in thes.items():\n",
    "        l = list(v)\n",
    "        f.write(k + ' : ' + ' '.join(l) + '\\n')\n",
    "    f.close()\n",
    "\n",
    "def main():\n",
    "    thesaurus = {}\n",
    "    load_thesaurus(thesaurus)\n",
    "    save_thesaurus(thesaurus)\n",
    "    # From here, use it! It should be populated.\n",
    "    # ...\n",
    "main()\n",
    "\n"
   ]
  },
  {
   "cell_type": "markdown",
   "metadata": {},
   "source": [
    "Saving to a File\n"
   ]
  }
 ],
 "metadata": {
  "kernelspec": {
   "display_name": "Python 3",
   "language": "python",
   "name": "python3"
  },
  "language_info": {
   "codemirror_mode": {
    "name": "ipython",
    "version": 3
   },
   "file_extension": ".py",
   "mimetype": "text/x-python",
   "name": "python",
   "nbconvert_exporter": "python",
   "pygments_lexer": "ipython3",
   "version": "3.12.2"
  }
 },
 "nbformat": 4,
 "nbformat_minor": 2
}
