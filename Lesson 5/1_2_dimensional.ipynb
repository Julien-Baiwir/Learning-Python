{
 "cells": [
  {
   "cell_type": "markdown",
   "metadata": {},
   "source": [
    "Dimensional Lists\n",
    "Lists that contain other lists as elements are referred to as 2-dimensional (2D) "
   ]
  },
  {
   "cell_type": "code",
   "execution_count": null,
   "metadata": {},
   "outputs": [],
   "source": [
    "grid = [ [1, 2], [3, 4] ]\n",
    "x = grid[1][0]\n",
    "y = grid[0][1]\n",
    "print(x+y)"
   ]
  },
  {
   "cell_type": "code",
   "execution_count": null,
   "metadata": {},
   "outputs": [],
   "source": [
    "grid = [ [1, 2, 3, 4],\n",
    "         [7, 2, 4, 1],\n",
    "         [7, 2, 4, 4],\n",
    "         [7, 0, 2, 1],\n",
    "         [5, 2, 0, 1] ]"
   ]
  },
  {
   "cell_type": "code",
   "execution_count": null,
   "metadata": {},
   "outputs": [],
   "source": [
    "statistics =[\n",
    "['Devin Booker', 21, 2, 5],\n",
    "['Steph Curry', 22, 5 , 6],\n",
    "]"
   ]
  },
  {
   "cell_type": "code",
   "execution_count": 2,
   "metadata": {},
   "outputs": [
    {
     "name": "stdout",
     "output_type": "stream",
     "text": [
      "Jane Sammy -> 86.0\n",
      "Karyn Small -> 94.5\n",
      "Steve Carrol -> 79.0\n",
      "Brady Richards -> 83.5\n"
     ]
    }
   ],
   "source": [
    "grades = [ ['Jane Sammy', 80, 93, 84, 87],\n",
    "           ['Karyn Small', 97, 98, 91, 92],\n",
    "           ['Steve Carrol', 87, 75, 73, 81],\n",
    "           ['Brady Richards', 70, 81, 91, 92]]\n",
    "\n",
    "def print_final_grades(grades):\n",
    "    for i in range(len(grades)):\n",
    "        grade_sum = 0\n",
    "        for gi in range (1, 5):\n",
    "            grade_sum += grades[i][gi]\n",
    "        print(grades[i][0], '->', str(grade_sum/4))\n",
    "\n",
    "print_final_grades(grades)"
   ]
  },
  {
   "cell_type": "code",
   "execution_count": null,
   "metadata": {},
   "outputs": [],
   "source": [
    "grades = [ ['Jane Sammy', 80, 93, 84, 87],\n",
    "           ['Karyn Small', 97, 98, 91, 92],\n",
    "           ['Steve Carrol', 87, 75, 73, 81],\n",
    "           ['Brady Richards', 70, 81, 91, 92]]\n",
    "\n",
    "def print_overall_grade_average(grades):\n",
    "    grade_sum = 0\n",
    "    for i in range(len(grades)):\n",
    "        for gi in range(1, 5):\n",
    "            grade_sum += grades[i][gi]\n",
    "    print('Average overall exam grade:', str(grade_sum/(len(grades)*4)))\n",
    "        \n",
    "print_overall_grade_average(grades) "
   ]
  }
 ],
 "metadata": {
  "kernelspec": {
   "display_name": "Python 3",
   "language": "python",
   "name": "python3"
  },
  "language_info": {
   "codemirror_mode": {
    "name": "ipython",
    "version": 3
   },
   "file_extension": ".py",
   "mimetype": "text/x-python",
   "name": "python",
   "nbconvert_exporter": "python",
   "pygments_lexer": "ipython3",
   "version": "3.12.2"
  }
 },
 "nbformat": 4,
 "nbformat_minor": 2
}
