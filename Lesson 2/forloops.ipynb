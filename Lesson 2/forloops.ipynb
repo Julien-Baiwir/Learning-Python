{
 "cells": [
  {
   "cell_type": "markdown",
   "metadata": {},
   "source": [
    "For Loops"
   ]
  },
  {
   "cell_type": "code",
   "execution_count": null,
   "metadata": {},
   "outputs": [],
   "source": [
    "word = input('Give me a word: ')\n",
    "first_last = word[0] + word[-1]\n",
    "print(\"Here\\'s the first and last letter: \" + first_last)"
   ]
  },
  {
   "cell_type": "code",
   "execution_count": 1,
   "metadata": {},
   "outputs": [
    {
     "name": "stdout",
     "output_type": "stream",
     "text": [
      "hi\n",
      "i variable is: 1\n",
      "hi\n",
      "i variable is: 2\n",
      "hi\n",
      "i variable is: 3\n",
      "hi\n",
      "i variable is: 4\n"
     ]
    }
   ],
   "source": [
    "for i in range(1,5):    \n",
    "    print('hi')   \n",
    "    print('i variable is: ' + str(i))\n"
   ]
  },
  {
   "cell_type": "code",
   "execution_count": null,
   "metadata": {},
   "outputs": [],
   "source": [
    "for count in range(0, 4):\n",
    "    word = input('Give me a word: ')\n",
    "    first_last = word[0] + word[-1]\n",
    "    print(\"Here's the first and last letter: \" + first_last)"
   ]
  }
 ],
 "metadata": {
  "kernelspec": {
   "display_name": "Python 3",
   "language": "python",
   "name": "python3"
  },
  "language_info": {
   "codemirror_mode": {
    "name": "ipython",
    "version": 3
   },
   "file_extension": ".py",
   "mimetype": "text/x-python",
   "name": "python",
   "nbconvert_exporter": "python",
   "pygments_lexer": "ipython3",
   "version": "3.12.2"
  }
 },
 "nbformat": 4,
 "nbformat_minor": 2
}
