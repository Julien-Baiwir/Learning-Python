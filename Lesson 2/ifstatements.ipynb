{
 "cells": [
  {
   "cell_type": "markdown",
   "metadata": {},
   "source": [
    "Control Flow in Python"
   ]
  },
  {
   "cell_type": "markdown",
   "metadata": {},
   "source": [
    "If statements with boolean expressions"
   ]
  },
  {
   "cell_type": "code",
   "execution_count": null,
   "metadata": {},
   "outputs": [],
   "source": [
    "earned = int(input('How much money did you earn? '))\n",
    "spent = int(input('How much money did you spend? '))\n",
    "if earned > spent:\n",
    "    print('Great! you earned more than you spent. Good job.')\n",
    "if earned == spent:\n",
    "    print('Wow, you broke even.')\n",
    "if earned < spent:\n",
    "    print('You are in a deficit!')"
   ]
  },
  {
   "cell_type": "code",
   "execution_count": null,
   "metadata": {},
   "outputs": [],
   "source": [
    "current_year = int(input('what year is it? '))\n",
    "received_year = int(input('What year did you get your passport? '))\n",
    "if received_year + 10 < current_year:\n",
    "    print('You should go get a new passport!')\n",
    "if received_year + 10 == current_year:\n",
    "    print('You should get a new passport sometime soon')\n",
    "if received_year + 10 > current_year:\n",
    "    print('You do not need to get a new passport for now')"
   ]
  },
  {
   "cell_type": "markdown",
   "metadata": {},
   "source": [
    "Combine Boolean Expressions"
   ]
  },
  {
   "cell_type": "code",
   "execution_count": null,
   "metadata": {},
   "outputs": [],
   "source": [
    "money = float(input('Money in account: '))\n",
    "if money > 1500.0:\n",
    "    print('You can afford to pay for dinner')"
   ]
  },
  {
   "cell_type": "code",
   "execution_count": null,
   "metadata": {},
   "outputs": [],
   "source": [
    " height = int(input('Height in inches: '))\n",
    " if height >= 40:\n",
    "     if height <= 70: \n",
    "         print('You may ride')\n",
    " if height < 40:\n",
    "     print('You may not ride')\n",
    " if height > 70:\n",
    "     print('You may not ride')"
   ]
  },
  {
   "cell_type": "markdown",
   "metadata": {},
   "source": [
    "Though it works, this is unnecessarily complex! "
   ]
  },
  {
   "cell_type": "code",
   "execution_count": null,
   "metadata": {},
   "outputs": [],
   "source": [
    "height = int(input('Height in inches: '))\n",
    "if height >= 40 and height <= 70: \n",
    "     print('You may ride')\n",
    "if height < 40 or height > 70:\n",
    "     print('You may not ride')"
   ]
  },
  {
   "cell_type": "code",
   "execution_count": null,
   "metadata": {},
   "outputs": [],
   "source": [
    "earned = int(input('How much money did you earn? '))\n",
    "spent = int(input('How much money did you spend? '))\n",
    "if earned >= spent:\n",
    "    print('You did not overspend :)')\n",
    "else:\n",
    "    print('You did overspend :(')"
   ]
  }
 ],
 "metadata": {
  "language_info": {
   "name": "python"
  }
 },
 "nbformat": 4,
 "nbformat_minor": 2
}
