{
 "cells": [
  {
   "cell_type": "markdown",
   "metadata": {},
   "source": [
    "Iterating Through Sets\n",
    "As with the other two types of data structures covered in the other lessons, sets can be iterated through using for loops. "
   ]
  },
  {
   "cell_type": "code",
   "execution_count": null,
   "metadata": {},
   "outputs": [],
   "source": [
    "names = {'Jeff', 'Jane', 'Adam', 'Amanda'}\n",
    "for n in names:\n",
    "    print(names)"
   ]
  },
  {
   "cell_type": "code",
   "execution_count": null,
   "metadata": {},
   "outputs": [],
   "source": [
    "def get_attendees_with_first_name(attendees, name):\n",
    "    results = set()\n",
    "    for att in attendees:\n",
    "        if att.startswith(name):\n",
    "            results.add(att)\n",
    "    return results\n",
    "\n",
    "people = {'John Jones', 'Sally Johnson', 'Carli Johnsonville', 'Johnny Reacher'}\n",
    "r = get_attendees_with_first_name(people, 'John')\n",
    "print(r)"
   ]
  },
  {
   "cell_type": "code",
   "execution_count": 1,
   "metadata": {},
   "outputs": [],
   "source": [
    "def remove_attendees_with_first_name(attendees, name):\n",
    "    for att in attendees:\n",
    "        if att.startswith(name):\n",
    "            results.discard(att)"
   ]
  },
  {
   "cell_type": "markdown",
   "metadata": {},
   "source": [
    "We cannot change the size of a set (wether adding or discarding elements) while within a for loop iterating through it. \n",
    "there are other ways to get the job done:"
   ]
  },
  {
   "cell_type": "code",
   "execution_count": null,
   "metadata": {},
   "outputs": [],
   "source": [
    "def remove_attendees_with_first_name(attendees, name):\n",
    "    to_remove = set()\n",
    "    for att in attendees:\n",
    "        if att.startswith(name):\n",
    "            to_remove.add(att)\n",
    "    for remove in to_remove:\n",
    "        results.discard(remove)"
   ]
  }
 ],
 "metadata": {
  "kernelspec": {
   "display_name": "Python 3",
   "language": "python",
   "name": "python3"
  },
  "language_info": {
   "codemirror_mode": {
    "name": "ipython",
    "version": 3
   },
   "file_extension": ".py",
   "mimetype": "text/x-python",
   "name": "python",
   "nbconvert_exporter": "python",
   "pygments_lexer": "ipython3",
   "version": "3.12.2"
  }
 },
 "nbformat": 4,
 "nbformat_minor": 2
}
