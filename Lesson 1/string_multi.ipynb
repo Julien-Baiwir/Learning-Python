{
 "cells": [
  {
   "cell_type": "markdown",
   "metadata": {},
   "source": [
    "String Multiplication"
   ]
  },
  {
   "cell_type": "code",
   "execution_count": 1,
   "metadata": {},
   "outputs": [],
   "source": [
    "revenue = input('Business revenue: ')\n",
    "cost = input('Business costs: ')\n",
    "profit = revenue - cost\n",
    "print('The business profit is: ' + str(profit))"
   ]
  },
  {
   "cell_type": "markdown",
   "metadata": {},
   "source": [
    "Traceback (most recent call last):\n",
    "  File \"/Users/bddicken/mu_code/test.py\", line 3, in <module>\n",
    "    profit = revenue - cost\n",
    "TypeError: unsupported operand type(s) for -: 'str' and 'str'"
   ]
  },
  {
   "cell_type": "code",
   "execution_count": null,
   "metadata": {},
   "outputs": [],
   "source": [
    "revenue = int(input('Business revenue: '))\n",
    "cost = int(input('Business costs: '))\n",
    "profit = revenue - cost\n",
    "print('The business profit is: ' + str(profit))"
   ]
  },
  {
   "cell_type": "code",
   "execution_count": 1,
   "metadata": {},
   "outputs": [
    {
     "name": "stdout",
     "output_type": "stream",
     "text": [
      "ZZZZZZZZZZZZZZZZZZZZ\n"
     ]
    }
   ],
   "source": [
    "x = 'Z' * 20\n",
    "print(x)"
   ]
  },
  {
   "cell_type": "code",
   "execution_count": null,
   "metadata": {},
   "outputs": [],
   "source": [
    "revenue = int(input('Business revenue: '))\n",
    "cost = int(input('Business costs: '))\n",
    "profit = revenue - cost\n",
    "print('The business profit is: ' + str(profit))\n",
    "cost_bar = '#' * int((cost / revenue) * 25)\n",
    "profit_bar = '#' * int((profit / revenue) * 25)\n",
    "print('  cost: ' + cost_bar)\n",
    "print('profit: ' + profit_bar)"
   ]
  }
 ],
 "metadata": {
  "kernelspec": {
   "display_name": "Python 3",
   "language": "python",
   "name": "python3"
  },
  "language_info": {
   "codemirror_mode": {
    "name": "ipython",
    "version": 3
   },
   "file_extension": ".py",
   "mimetype": "text/x-python",
   "name": "python",
   "nbconvert_exporter": "python",
   "pygments_lexer": "ipython3",
   "version": "3.12.2"
  }
 },
 "nbformat": 4,
 "nbformat_minor": 2
}
