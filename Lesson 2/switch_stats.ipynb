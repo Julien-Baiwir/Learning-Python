{
 "cells": [
  {
   "cell_type": "code",
   "execution_count": null,
   "metadata": {},
   "outputs": [],
   "source": [
    "def switch_example(argument):\n",
    "    if argument == 1:\n",
    "        print(\"You chose option 1\")\n",
    "    elif argument == 2:\n",
    "        print(\"You chose option 2\")\n",
    "    elif argument == 3:\n",
    "        print(\"You chose option 3\")\n",
    "    else:\n",
    "        print(\"Invalid option\")\n",
    "\n",
    "switch_example(2)  # Output: You chose option 2"
   ]
  },
  {
   "cell_type": "code",
   "execution_count": null,
   "metadata": {},
   "outputs": [],
   "source": [
    "def switch_example(argument):\n",
    "    switch_dict = {\n",
    "        1: \"You chose option 1\",\n",
    "        2: \"You chose option 2\",\n",
    "        3: \"You chose option 3\",\n",
    "    }\n",
    "    print(switch_dict.get(argument, \"Invalid option\"))\n",
    "\n",
    "switch_example(3)  # Output: You chose option 3"
   ]
  },
  {
   "cell_type": "code",
   "execution_count": null,
   "metadata": {},
   "outputs": [],
   "source": [
    "class Switch:\n",
    "    def case_1(self):\n",
    "        print(\"You chose option 1\")\n",
    "\n",
    "    def case_2(self):\n",
    "        print(\"You chose option 2\")\n",
    "\n",
    "    def case_3(self):\n",
    "        print(\"You chose option 3\")\n",
    "\n",
    "    def default_case(self):\n",
    "        print(\"Invalid option\")\n",
    "\n",
    "    def switch_example(self, argument):\n",
    "        switch_cases = {\n",
    "            1: self.case_1,\n",
    "            2: self.case_2,\n",
    "            3: self.case_3,\n",
    "        }\n",
    "        switch_cases.get(argument, self.default_case)()\n",
    "\n",
    "s = Switch()\n",
    "s.switch_example(2)  # Output: You chose option 2\n"
   ]
  }
 ],
 "metadata": {
  "language_info": {
   "name": "python"
  }
 },
 "nbformat": 4,
 "nbformat_minor": 2
}
