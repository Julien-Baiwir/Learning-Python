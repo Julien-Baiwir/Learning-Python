{
 "cells": [
  {
   "cell_type": "code",
   "execution_count": null,
   "metadata": {},
   "outputs": [],
   "source": [
    "city = 'Jerusalem'\n",
    "letter = city[4]\n",
    "print(letter)"
   ]
  },
  {
   "cell_type": "code",
   "execution_count": null,
   "metadata": {},
   "outputs": [],
   "source": [
    "city = 'Jerusalem'\n",
    "rock = city[-9] + city[-8] + city[-1]\n",
    "print(rock)"
   ]
  },
  {
   "cell_type": "code",
   "execution_count": null,
   "metadata": {},
   "outputs": [],
   "source": [
    "text = input('Type something: ')\n",
    "print('The last two characters of your input were: ' + text[-2] + text[-1])"
   ]
  },
  {
   "cell_type": "code",
   "execution_count": null,
   "metadata": {},
   "outputs": [],
   "source": [
    "text = input('Type something: ')\n",
    "last = text[len(text) - 1]\n",
    "other = text[len(text) - 2]\n",
    "print('The last two characters of your input were: ' + other + last)"
   ]
  }
 ],
 "metadata": {
  "language_info": {
   "name": "python"
  }
 },
 "nbformat": 4,
 "nbformat_minor": 2
}
