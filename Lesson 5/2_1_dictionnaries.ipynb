{
 "cells": [
  {
   "cell_type": "markdown",
   "metadata": {},
   "source": [
    "Dictionaries"
   ]
  },
  {
   "cell_type": "code",
   "execution_count": null,
   "metadata": {},
   "outputs": [],
   "source": [
    "# An empty dictionary with no key+value mappings\n",
    "nothing = { }\n",
    "\n",
    "# Two key/value pairs\n",
    "contacts = {'Sally Sandwood': '409-128-0881', 'Richard Carnegie': '409-871-9012'}\n",
    "\n",
    "# Three key/value pairs\n",
    "pantry = {'protein bar': 200, 'apple': 50, 'banana':110 }"
   ]
  },
  {
   "cell_type": "code",
   "execution_count": null,
   "metadata": {},
   "outputs": [],
   "source": [
    "y = {5: 'hello', 'goodbye': 5.12}"
   ]
  },
  {
   "cell_type": "markdown",
   "metadata": {},
   "source": [
    "If cookies and beans are purchased, we can add by doing:"
   ]
  },
  {
   "cell_type": "code",
   "execution_count": 1,
   "metadata": {},
   "outputs": [
    {
     "name": "stdout",
     "output_type": "stream",
     "text": [
      "{'protein bar': 200, 'cookie': 300, 'beans': 75}\n"
     ]
    }
   ],
   "source": [
    "pantry = {'protein bar': 200, 'apple': 50 }\n",
    "pantry['cookie'] = 300\n",
    "pantry['beans'] = 75\n",
    "del pantry['apple']\n",
    "print(pantry)"
   ]
  },
  {
   "cell_type": "code",
   "execution_count": null,
   "metadata": {},
   "outputs": [],
   "source": [
    "def add_food(pantry):\n",
    "    food_name = input('Enter the food name: ')\n",
    "    calories = int(input('Enter the food calories: '))\n",
    "    pantry[food_name] = calories\n",
    "\n",
    "def remove_food(pantry):\n",
    "    food_name = input('Enter the food to remove: ')\n",
    "    if food_name in pantry:\n",
    "        del pantry[food_name]\n",
    "    \n",
    "def show_food(pantry):\n",
    "    for key in pantry:\n",
    "        print(key, '->', pantry[key])\n",
    "\n",
    "def main():\n",
    "    pantry_items = {}\n",
    "    command = ''\n",
    "    while command != 'done':\n",
    "        command = input('Type add, remove, show, or done: ')\n",
    "        if command == 'add':\n",
    "            add_food(pantry_items)\n",
    "        elif command == 'remove':\n",
    "            remove_food(pantry_items)\n",
    "        elif command == 'show':\n",
    "            show_food(pantry_items)\n",
    "main()"
   ]
  }
 ],
 "metadata": {
  "kernelspec": {
   "display_name": "Python 3",
   "language": "python",
   "name": "python3"
  },
  "language_info": {
   "codemirror_mode": {
    "name": "ipython",
    "version": 3
   },
   "file_extension": ".py",
   "mimetype": "text/x-python",
   "name": "python",
   "nbconvert_exporter": "python",
   "pygments_lexer": "ipython3",
   "version": "3.12.2"
  }
 },
 "nbformat": 4,
 "nbformat_minor": 2
}
