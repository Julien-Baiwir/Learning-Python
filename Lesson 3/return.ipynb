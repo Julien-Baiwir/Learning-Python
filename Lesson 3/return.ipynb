{
 "cells": [
  {
   "cell_type": "markdown",
   "metadata": {},
   "source": []
  },
  {
   "cell_type": "code",
   "execution_count": null,
   "metadata": {},
   "outputs": [],
   "source": [
    "Functions with Multiple Return Values"
   ]
  },
  {
   "cell_type": "code",
   "execution_count": 2,
   "metadata": {},
   "outputs": [
    {
     "name": "stdout",
     "output_type": "stream",
     "text": [
      " Taxes you owe: 6750.0\n",
      "Money leftover: 38250.0\n"
     ]
    }
   ],
   "source": [
    "def compute_tax(income, credits):\n",
    "    net = income - credits\n",
    "    tax = 0\n",
    "    remaining = 0\n",
    "    if net < 50000:\n",
    "        tax = net * 0.15\n",
    "    elif net < 100000:\n",
    "        tax = net * 0.20\n",
    "    remaining = net - tax\n",
    "    return tax, remaining\n",
    "\n",
    "tax_owed, leftover = compute_tax(50000, 5000)\n",
    "print(\" Taxes you owe: \" + str(tax_owed))\n",
    "print(\"Money leftover: \" + str(leftover))"
   ]
  }
 ],
 "metadata": {
  "kernelspec": {
   "display_name": "Python 3",
   "language": "python",
   "name": "python3"
  },
  "language_info": {
   "codemirror_mode": {
    "name": "ipython",
    "version": 3
   },
   "file_extension": ".py",
   "mimetype": "text/x-python",
   "name": "python",
   "nbconvert_exporter": "python",
   "pygments_lexer": "ipython3",
   "version": "3.12.2"
  }
 },
 "nbformat": 4,
 "nbformat_minor": 2
}
