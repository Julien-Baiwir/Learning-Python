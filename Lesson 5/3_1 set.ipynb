{
 "cells": [
  {
   "cell_type": "markdown",
   "metadata": {},
   "source": [
    "Sets\n",
    "Sets can be made up of any type of object that is immutable.\n",
    "Strings, Integers, Floats, and Booleans all fall into this category. "
   ]
  },
  {
   "cell_type": "code",
   "execution_count": null,
   "metadata": {},
   "outputs": [],
   "source": [
    "# Use set() to create empty sets\n",
    "stuff = set()\n",
    "# Can use either set() or just {} if creating a set with elements pre-populated\n",
    "names = set('Sally', 'Jacelyn', 'Robert', 'Jake')\n",
    "words = {'antelope', 'star', 'camera', 'computer'}"
   ]
  },
  {
   "cell_type": "markdown",
   "metadata": {},
   "source": [
    "Sets even support having a mixing of types"
   ]
  },
  {
   "cell_type": "code",
   "execution_count": null,
   "metadata": {},
   "outputs": [],
   "source": [
    "# Mixing integers and floats\n",
    "numbers = {5, 7.1, 5.921, 4, 5}"
   ]
  },
  {
   "cell_type": "markdown",
   "metadata": {},
   "source": [
    "Sets do not allow for duplicated objects. The set in the example shown above has two 5 in it in the code, but when Python goes to actually initialize this set when it executes this line of code, one of the 5s will be removed."
   ]
  },
  {
   "cell_type": "code",
   "execution_count": null,
   "metadata": {},
   "outputs": [],
   "source": [
    "names = {'Sally', 'Jeff'}\n",
    "names.add('Jeff')\n",
    "names.discard('Sally')\n",
    "names.add('Jane')\n",
    "print(names)"
   ]
  },
  {
   "cell_type": "markdown",
   "metadata": {},
   "source": [
    "Sets are a great structure for managing collections of items that don’t require any ordering or duplicates. A good example of this would be using a set to track the attendees of an event. "
   ]
  },
  {
   "cell_type": "code",
   "execution_count": null,
   "metadata": {},
   "outputs": [],
   "source": [
    "def add_attendee(attendees, new_person):\n",
    "    if new_person not in attendees:\n",
    "        attendees.add(new_person)\n",
    "        print(new_person, \"is now an attendee\")\n",
    "    else:\n",
    "        print(\"That person is already invited\")"
   ]
  },
  {
   "cell_type": "code",
   "execution_count": null,
   "metadata": {},
   "outputs": [],
   "source": [
    "def trim_attendees(attendees, limit):\n",
    "    removed = 0\n",
    "    while len(attendees > limit):\n",
    "         attendees.pop()\n",
    "         removed += 1\n",
    "    print('removed', removed, 'attendees .')\n",
    "    return removed \n",
    "        "
   ]
  },
  {
   "cell_type": "code",
   "execution_count": null,
   "metadata": {},
   "outputs": [],
   "source": [
    "def trim_attendees(attendees, limit): \n",
    "    removed = 0\n",
    "    while len(attendees) > limit:\n",
    "         attendees.pop()\n",
    "         removed += 1\n",
    "    print('removed', removed, 'attendees .')\n",
    "    return removed \n",
    "\n",
    "attendees = {'Paul', 'Ju', 'Fred', 'Fab', 'Bernard'}\n",
    "limit = 3\n",
    "trim_attendees(attendees, limit)\n",
    "print(attendees)"
   ]
  }
 ],
 "metadata": {
  "kernelspec": {
   "display_name": "Python 3",
   "language": "python",
   "name": "python3"
  },
  "language_info": {
   "codemirror_mode": {
    "name": "ipython",
    "version": 3
   },
   "file_extension": ".py",
   "mimetype": "text/x-python",
   "name": "python",
   "nbconvert_exporter": "python",
   "pygments_lexer": "ipython3",
   "version": "3.12.2"
  }
 },
 "nbformat": 4,
 "nbformat_minor": 2
}
