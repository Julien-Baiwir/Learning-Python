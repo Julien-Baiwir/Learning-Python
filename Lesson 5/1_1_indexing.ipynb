{
 "cells": [
  {
   "cell_type": "markdown",
   "metadata": {},
   "source": [
    "Indexing and Iteration with Lists"
   ]
  },
  {
   "cell_type": "code",
   "execution_count": null,
   "metadata": {},
   "outputs": [],
   "source": [
    "numbers = [2, 5, 15, 20, 25, 30, 25]\n",
    "x = numbers[1]\n",
    "print(x, 'and', numbers[x])"
   ]
  },
  {
   "cell_type": "markdown",
   "metadata": {},
   "source": [
    "One difference between indexing with lists compared to strings is that lists are mutable."
   ]
  },
  {
   "cell_type": "code",
   "execution_count": 4,
   "metadata": {},
   "outputs": [
    {
     "name": "stdout",
     "output_type": "stream",
     "text": [
      "[5, 5, 100, 20, 35, 30, 25]\n"
     ]
    }
   ],
   "source": [
    "numbers = [2, 5, 15, 20, 25, 30, 25]\n",
    "numbers[2] = 100\n",
    "numbers[4] += 10\n",
    "numbers[0] = numbers[1]\n",
    "print(numbers)"
   ]
  },
  {
   "cell_type": "code",
   "execution_count": null,
   "metadata": {},
   "outputs": [],
   "source": [
    "numbers = [10, 20, 30, 40]\n",
    "\n",
    "# Print out all of the numbers\n",
    "i = 0\n",
    "while i < len(numbers):  # the len() function works for lists too!\n",
    "    print( numbers[i] )\n",
    "    i += 1"
   ]
  },
  {
   "cell_type": "code",
   "execution_count": null,
   "metadata": {},
   "outputs": [],
   "source": [
    "for i in range(len(numbers)):\n",
    "    print( numbers[i] )"
   ]
  },
  {
   "cell_type": "code",
   "execution_count": 5,
   "metadata": {},
   "outputs": [],
   "source": [
    "purchases = [10.45, 84.91, 30.21, 60.02]\n",
    "def get_average(purchases):\n",
    "    average = 0.0\n",
    "    for i in range(len(purchases)):\n",
    "        average += purchases[i]\n",
    "    return average / len(purchases)"
   ]
  },
  {
   "cell_type": "code",
   "execution_count": null,
   "metadata": {},
   "outputs": [],
   "source": [
    "purchases = [10.45, 84.91, 30.21, 60.02]\n",
    "def get_max(purchases):\n",
    "  largest = purchases[0]  \n",
    "  for item in purchases:\n",
    "    if item > largest:\n",
    "      largest = item\n",
    "  return largest\n",
    "\n"
   ]
  }
 ],
 "metadata": {
  "kernelspec": {
   "display_name": "Python 3",
   "language": "python",
   "name": "python3"
  },
  "language_info": {
   "codemirror_mode": {
    "name": "ipython",
    "version": 3
   },
   "file_extension": ".py",
   "mimetype": "text/x-python",
   "name": "python",
   "nbconvert_exporter": "python",
   "pygments_lexer": "ipython3",
   "version": "3.12.2"
  }
 },
 "nbformat": 4,
 "nbformat_minor": 2
}
