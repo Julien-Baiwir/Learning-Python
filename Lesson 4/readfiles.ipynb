{
 "cells": [
  {
   "cell_type": "markdown",
   "metadata": {},
   "source": [
    "Some files contain “complex” information such as images, videos and 3D objects. There are other “simpler” types of file content as well, a very common one being plain-text file. A plain-text file is just a string (could be big, could be small) placed into a file and stored by the computers hard drive\n",
    "Python programs have the ability to both save content to and load content from text files. "
   ]
  },
  {
   "cell_type": "markdown",
   "metadata": {},
   "source": [
    "The first step in reading a text file from a Python program is to open it. Conveniently, there is a function named open that we use to do just this."
   ]
  },
  {
   "cell_type": "code",
   "execution_count": null,
   "metadata": {},
   "outputs": [],
   "source": [
    "data_file = open('file_name.txt', 'r')\n",
    "content = data_file.read()\n",
    "print(content)"
   ]
  },
  {
   "cell_type": "code",
   "execution_count": null,
   "metadata": {},
   "outputs": [],
   "source": [
    "sales = open('sales.txt', 'r')\n",
    "i = 0\n",
    "while i < 4:\n",
    "    line_from_file = sales.readline()\n",
    "    print(line_from_file.strip()) \n",
    "    i += 1"
   ]
  },
  {
   "cell_type": "code",
   "execution_count": null,
   "metadata": {},
   "outputs": [],
   "source": [
    "sales = open('sales.txt', 'r')\n",
    "i = 0 \n",
    "while i < 4:\n",
    "    line_from_file = sales.readline()\n",
    "    index = line_from_file.index(',')\n",
    "    product = line_from_file[:index]\n",
    "    quantity = int(line_from_file[index+1:])\n",
    "    print( product.rjust(10) + ': ' + '#' * quantity)\n",
    "    i += 1\n",
    "sales.close()"
   ]
  },
  {
   "cell_type": "markdown",
   "metadata": {},
   "source": [
    "le fichier sales.txt est ouvert en mode lecture ('r') et l'objet fichier est assigné à la variable sales.\n",
    "\n",
    "La variable i est initialisée à 0. \n",
    "\n",
    "la méthode index() est utilisée pour trouver l'index de la virgule dans la ligne. Cela divise la ligne en deux parties : le nom du produit et la quantité vendue, séparés par une virgule. \n",
    "-Le nom du produit est extrait en prenant une sous-chaîne de la ligne à partir du début jusqu'à l'index de la virgule\n",
    "-La quantité vendue est extraite en convertissant la sous-chaîne en un entier à l'aide de la fonction int().\n",
    "\n",
    "[:index] : Cette syntaxe extrait une sous-chaîne de caractères à partir du début de la chaîne jusqu'à l'index spécifié (non inclus). \n",
    "\n",
    "[index+1:] : Cette syntaxe extrait une sous-chaîne de caractères à partir de l'index spécifié jusqu'à la fin de la chaîne. \n",
    "\n",
    " Le nom du produit est justifié à droite avec une largeur de 10 caractères à l'aide de la méthode rjust(), puis suivi par un symbole # répété autant de fois que la quantité vendue.\n",
    "\n",
    "Fermeture du fichier : Une fois que les quatre premières lignes du fichier ont été lues et traitées, le fichier est fermé à l'aide de la méthode close() pour libérer les ressources système."
   ]
  },
  {
   "cell_type": "code",
   "execution_count": null,
   "metadata": {},
   "outputs": [],
   "source": [
    "sales = open('sales.txt', 'r')\n",
    "for line in sales:\n",
    "    index    = line.index(',')\n",
    "    product  = line[:index]\n",
    "    quantity = int(line[index+1:])\n",
    "    print( product.rjust(20) + ': ' + '#' * quantity)"
   ]
  }
 ],
 "metadata": {
  "kernelspec": {
   "display_name": "Python 3",
   "language": "python",
   "name": "python3"
  },
  "language_info": {
   "codemirror_mode": {
    "name": "ipython",
    "version": 3
   },
   "file_extension": ".py",
   "mimetype": "text/x-python",
   "name": "python",
   "nbconvert_exporter": "python",
   "pygments_lexer": "ipython3",
   "version": "3.12.2"
  }
 },
 "nbformat": 4,
 "nbformat_minor": 2
}
