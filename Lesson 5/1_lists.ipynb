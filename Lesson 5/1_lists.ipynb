{
 "cells": [
  {
   "cell_type": "markdown",
   "metadata": {},
   "source": [
    "Lists"
   ]
  },
  {
   "cell_type": "code",
   "execution_count": null,
   "metadata": {},
   "outputs": [],
   "source": [
    "empty_list = [] \n",
    "numbers = [5, 10, 15]\n",
    "names = ['Sally', 'Young', 'Samantha', 'Keaton']"
   ]
  },
  {
   "cell_type": "code",
   "execution_count": null,
   "metadata": {},
   "outputs": [],
   "source": [
    "names = ['Sally', 'Young', 'Samantha', 'Keaton']\n",
    "names.append('Jeremiah')\n",
    "print(names)\n",
    "names.remove('Young')\n",
    "names.remove('keaton')\n",
    "print(names)"
   ]
  },
  {
   "cell_type": "markdown",
   "metadata": {},
   "source": [
    "The .append() function adds a new element to the end \n",
    "The .remove() function will remove the first element \n",
    "\n",
    "string comparison is case-sensitive cf Keaton / keaton"
   ]
  },
  {
   "cell_type": "code",
   "execution_count": null,
   "metadata": {},
   "outputs": [],
   "source": [
    "def main():\n",
    "    line = []\n",
    "    action = ''\n",
    "    while action != 'done':\n",
    "        action = input('What action should take place? ')\n",
    "        if action == 'join':\n",
    "            name = input('Customer name: ')\n",
    "            line.append(name)                                                      \n",
    "        if action == 'leave':\n",
    "            name = input('Customer name: ')\n",
    "            line.remove(name)\n",
    "        if action == 'show':\n",
    "            print(line)\n",
    "        \n",
    "main()"
   ]
  },
  {
   "cell_type": "markdown",
   "metadata": {},
   "source": [
    "if we try to remove a user that does not exist?"
   ]
  },
  {
   "cell_type": "code",
   "execution_count": null,
   "metadata": {},
   "outputs": [],
   "source": [
    "ValueError: list.remove(x): x not in list"
   ]
  },
  {
   "cell_type": "markdown",
   "metadata": {},
   "source": [
    "We need some alternative code to handle this case.\n",
    "Python has an easy way to check if a value exists within a list, and that is the in keyword. When you write X in Y and if X is a value and Y is a list, it will give True if X is in Y and False otherwise. "
   ]
  }
 ],
 "metadata": {
  "kernelspec": {
   "display_name": "Python 3",
   "language": "python",
   "name": "python3"
  },
  "language_info": {
   "codemirror_mode": {
    "name": "ipython",
    "version": 3
   },
   "file_extension": ".py",
   "mimetype": "text/x-python",
   "name": "python",
   "nbconvert_exporter": "python",
   "pygments_lexer": "ipython3",
   "version": "3.12.2"
  }
 },
 "nbformat": 4,
 "nbformat_minor": 2
}
