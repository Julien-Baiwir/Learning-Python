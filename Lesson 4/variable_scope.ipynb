{
 "cells": [
  {
   "cell_type": "markdown",
   "metadata": {},
   "source": [
    "Variable Scope"
   ]
  },
  {
   "cell_type": "code",
   "execution_count": null,
   "metadata": {},
   "outputs": [],
   "source": [
    "name = 'PLACEHOLDER'\n",
    "\n",
    "def capitalize_name():\n",
    "    name = input('What is your name? ')\n",
    "    first_letter = name[0]\n",
    "    after_first = name[1:]\n",
    "    name = first_letter.upper() + after_first.lower()\n",
    "\n",
    "capitalize_name()\n",
    "print('Hi there', name)\n",
    "\"\"\"result = placeholder\"\"\""
   ]
  },
  {
   "cell_type": "markdown",
   "metadata": {},
   "source": [
    "the name variable declared on the first line is a global variable"
   ]
  },
  {
   "cell_type": "code",
   "execution_count": null,
   "metadata": {},
   "outputs": [],
   "source": [
    "def capitalize_name(name_to_process):\n",
    "    first_letter = name_to_process[0]\n",
    "    after_first = name_to_process[1:]\n",
    "    name_to_process = first_letter.upper() + after_first.lower()\n",
    "\n",
    "name = input('Type your name: ')\n",
    "capitalize_name(name)\n",
    "print('Hi there', name)\n",
    "\n",
    "\"\"\"carOLINE , la variable n'a pas été modifiée par la fonction\"\"\""
   ]
  },
  {
   "cell_type": "markdown",
   "metadata": {},
   "source": [
    "In this case, name is created as a global variable. We then pass the value of the variable into the function call, and it is store in the name_to_process parameter. Within the function, name_to_process is modified to be 'Caroline'. However, since name_to_process is a local variable, it disappears when the function completes, and the global name was never changed. "
   ]
  },
  {
   "cell_type": "code",
   "execution_count": null,
   "metadata": {},
   "outputs": [],
   "source": [
    "name = input('Type your name: ')\n",
    "\n",
    "def capitalize_name():\n",
    "    first_letter = name[0]\n",
    "    after_first = name[1:]\n",
    "    name = first_letter.upper() + after_first.lower()\n",
    "\n",
    "capitalize_name()\n",
    "print('Hi there', name)"
   ]
  },
  {
   "cell_type": "markdown",
   "metadata": {},
   "source": [
    "Traceback (most recent call last):\n",
    "  File \"test.py\", line 8, in <module>\n",
    "    capitalize_name()\n",
    "  File \"test.py\", line 4, in capitalize_name\n",
    "    first_letter = name[0]\n",
    "UnboundLocalError: local variable 'name' referenced before assignment"
   ]
  },
  {
   "cell_type": "code",
   "execution_count": null,
   "metadata": {},
   "outputs": [],
   "source": [
    "name = input('Type your name: ')\n",
    "\n",
    "def capitalize_name():\n",
    "    global name\n",
    "    first_letter = name[0]\n",
    "    after_first = name[1:]\n",
    "    name = first_letter.upper() + after_first.lower()\n",
    "\n",
    "capitalize_name()\n",
    "print('Hi there', name)"
   ]
  },
  {
   "cell_type": "markdown",
   "metadata": {},
   "source": [
    "If we want to use the global, we have to add a special global indicator, letting the function know we want to use that one, and not the local one"
   ]
  },
  {
   "cell_type": "code",
   "execution_count": null,
   "metadata": {},
   "outputs": [],
   "source": [
    "def capitalize_name(name): \n",
    "    first_letter = name[0] \n",
    "    after_first = name[1:] \n",
    "    return first_letter.upper() + after_first.lower()\n",
    "                           \n",
    "name = input('Type your name: ')\n",
    "new_name = capitalize_name(name)\n",
    "print('Hi there', new_name)"
   ]
  }
 ],
 "metadata": {
  "kernelspec": {
   "display_name": "Python 3",
   "language": "python",
   "name": "python3"
  },
  "language_info": {
   "codemirror_mode": {
    "name": "ipython",
    "version": 3
   },
   "file_extension": ".py",
   "mimetype": "text/x-python",
   "name": "python",
   "nbconvert_exporter": "python",
   "pygments_lexer": "ipython3",
   "version": "3.12.2"
  }
 },
 "nbformat": 4,
 "nbformat_minor": 2
}
