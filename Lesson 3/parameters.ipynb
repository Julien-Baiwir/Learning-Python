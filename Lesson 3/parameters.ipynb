{
 "cells": [
  {
   "cell_type": "markdown",
   "metadata": {},
   "source": []
  },
  {
   "cell_type": "code",
   "execution_count": null,
   "metadata": {},
   "outputs": [],
   "source": [
    "Function Arguments, Parameters, Return"
   ]
  },
  {
   "cell_type": "code",
   "execution_count": null,
   "metadata": {},
   "outputs": [],
   "source": [
    "Multiple Parameters"
   ]
  },
  {
   "cell_type": "code",
   "execution_count": null,
   "metadata": {},
   "outputs": [],
   "source": [
    "income = int(input('net:'))\n",
    "credits = int(input('credits:'))\n",
    "\n",
    "def compute_tax(income, credits):\n",
    "    net = income - credits\n",
    "    if net < 50000:\n",
    "        return net * 0.15\n",
    "    elif net < 100000:\n",
    "        return net * 0.20\n",
    "    return net * .25\n",
    "\n",
    "result = compute_tax(income, credits)\n",
    "print(\"Tax to be paid:\", result)"
   ]
  },
  {
   "cell_type": "code",
   "execution_count": null,
   "metadata": {},
   "outputs": [],
   "source": [
    "def compute_tax(income, credits):\n",
    "    net = income - credits\n",
    "    if net < 50000:\n",
    "        return net * 0.15\n",
    "    elif net < 100000:\n",
    "        return net * 0.20\n",
    "    return net * .25\n",
    "\n",
    "def main():\n",
    "    salary = int(input('How much money did you make this year? '))\n",
    "    user_credit = int(input('How much tax credit do you have? '))\n",
    "    result = compute_tax(salary, user_credit)\n",
    "    print('You owe $' + str(result) + ' in taxes.')\n",
    "    \n",
    "    \"\"\"When the call to compute_tax(salaty, credits) is made in this\n",
    "    code, the income parameter variable gets assigned the value from \n",
    "    the salary variable, and the credits parameter \n",
    "    gets assigned the value from user_credit.\"\"\""
   ]
  },
  {
   "cell_type": "code",
   "execution_count": null,
   "metadata": {},
   "outputs": [],
   "source": []
  }
 ],
 "metadata": {
  "kernelspec": {
   "display_name": "Python 3",
   "language": "python",
   "name": "python3"
  },
  "language_info": {
   "codemirror_mode": {
    "name": "ipython",
    "version": 3
   },
   "file_extension": ".py",
   "mimetype": "text/x-python",
   "name": "python",
   "nbconvert_exporter": "python",
   "pygments_lexer": "ipython3",
   "version": "3.12.2"
  }
 },
 "nbformat": 4,
 "nbformat_minor": 2
}
