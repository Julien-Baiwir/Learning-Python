{
 "cells": [
  {
   "cell_type": "markdown",
   "metadata": {},
   "source": [
    "Functions"
   ]
  },
  {
   "cell_type": "code",
   "execution_count": 2,
   "metadata": {},
   "outputs": [
    {
     "name": "stdout",
     "output_type": "stream",
     "text": [
      "Welcome to the program\n",
      "I hope you enjoy it\n"
     ]
    }
   ],
   "source": [
    "def print_welcome():\n",
    "    print(\"Welcome to the program\")\n",
    "    print(\"I hope you enjoy it\")\n",
    "print_welcome()"
   ]
  },
  {
   "cell_type": "code",
   "execution_count": 3,
   "metadata": {},
   "outputs": [],
   "source": [
    "def determine_golf_performance():\n",
    "    par = int(input('What par was the hole?\\n'))\n",
    "    strokes = int(input('How many strokes did you use?\\n'))\n",
    "             \n",
    "    if par-3 == strokes:\n",
    "        print('Albatross')\n",
    "    elif par-2 == strokes:\n",
    "        print('Eagle')\n",
    "    elif par-1 == strokes:\n",
    "        print('Birdie')\n",
    "    elif par == strokes:\n",
    "        print('Par')\n",
    "    elif par+1 == strokes:\n",
    "        print('Bogey')\n",
    "    elif par+2 == strokes:\n",
    "        print('Double Bogey')\n",
    "    elif par+3 == strokes:\n",
    "        print('Triple Bogey')\n",
    "    else:    \n",
    "        print('I don\\'t know? Please try again.')\n",
    "\n",
    "print(\">> Use this tool to give you feedback on how you golfed\")\n",
    "hole = 1\n",
    "while hole <= 18:\n",
    "    print(\">> Hole\", hole, \"performance\")\n",
    "    determine_golf_performance()\n",
    "    hole += 1"
   ]
  },
  {
   "cell_type": "code",
   "execution_count": null,
   "metadata": {},
   "outputs": [],
   "source": [
    "def determine_golf_performance(par, strokes):\n",
    "    if par-3 == strokes:\n",
    "        return 'Albatross'\n",
    "    elif par-2 == strokes:\n",
    "        return 'Eagle'\n",
    "    elif par-1 == strokes:\n",
    "        return 'Birdie'\n",
    "    elif par == strokes:\n",
    "        return 'Par'\n",
    "    elif par+1 == strokes:\n",
    "        return 'Bogey'\n",
    "    elif par+2 == strokes:\n",
    "        return 'Double Bogey'\n",
    "    elif par+3 == strokes:\n",
    "        return 'Triple Bogey'\n",
    "    else:    \n",
    "        return '?'\n",
    "\n",
    "def iterate_through_holes():\n",
    "    hole = 1\n",
    "    while hole <= 18:\n",
    "        par = int(input('What par was the hole?\\n'))\n",
    "        strokes = int(input('How many strokes did you use?\\n'))\n",
    "        result = determine_golf_performance(par, strokes)\n",
    "        print(\"Hole\", hole, \"performance is\", result)\n",
    "        hole += 1\n",
    "\n",
    "print(\"Use this tool to give you feedback on how you golfed\")\n",
    "iterate_through_holes()"
   ]
  },
  {
   "cell_type": "markdown",
   "metadata": {},
   "source": [
    "Validating Information"
   ]
  },
  {
   "cell_type": "code",
   "execution_count": null,
   "metadata": {},
   "outputs": [],
   "source": [
    "def is_phone_valid(phone):\n",
    "  if len(phone) != 12 or phone[3] != '-' or phone[7] != '-':\n",
    "      return False\n",
    "  for i in range(0, 12):\n",
    "      if i != 3 and i != 7 and phone[i].isdigit() == False:\n",
    "          return False\n",
    "  return True"
   ]
  },
  {
   "cell_type": "code",
   "execution_count": null,
   "metadata": {},
   "outputs": [],
   "source": [
    "def is_email_valid(email):\n",
    "    at_count = 0 \n",
    "    dot_count = 0 \n",
    "    for character in email:\n",
    "        if character == '@':\n",
    "            at_count += 1\n",
    "        if character == '.':\n",
    "            dot_count += 1\n",
    "    return at_count == 1 and dot_count >= 1"
   ]
  },
  {
   "cell_type": "code",
   "execution_count": null,
   "metadata": {},
   "outputs": [],
   "source": [
    "def main():\n",
    "    print(\"Welcome to the sign-up form.\")\n",
    "    print(\"Please provide your email and phone number so we can contact you.\")\n",
    "     \n",
    "    number = input(\"Phone number: \")\n",
    "    address = input(\"Email Address: \")\n",
    "     \n",
    "     \n",
    "    number_valid = is_phone_valid(number)\n",
    "    address_valid = is_email_valid(address)\n",
    "     \n",
    "    if number_valid and address_valid:\n",
    "        print(\"Thanks for providing your information\")\n",
    "    else:\n",
    "        print(\"Something is not right. Please try again.\")"
   ]
  },
  {
   "cell_type": "code",
   "execution_count": null,
   "metadata": {},
   "outputs": [],
   "source": []
  }
 ],
 "metadata": {
  "kernelspec": {
   "display_name": "Python 3",
   "language": "python",
   "name": "python3"
  },
  "language_info": {
   "codemirror_mode": {
    "name": "ipython",
    "version": 3
   },
   "file_extension": ".py",
   "mimetype": "text/x-python",
   "name": "python",
   "nbconvert_exporter": "python",
   "pygments_lexer": "ipython3",
   "version": "3.12.2"
  }
 },
 "nbformat": 4,
 "nbformat_minor": 2
}
