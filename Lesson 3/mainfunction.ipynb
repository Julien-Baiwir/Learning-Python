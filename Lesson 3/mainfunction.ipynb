{
 "cells": [
  {
   "cell_type": "markdown",
   "metadata": {},
   "source": []
  },
  {
   "cell_type": "code",
   "execution_count": null,
   "metadata": {
    "vscode": {
     "languageId": "plaintext"
    }
   },
   "outputs": [],
   "source": [
    "The main Function\n",
    " common practice for programs that use functions is to always \n",
    " include a function with the name main:\n",
    "\n",
    "  1  def function_one():\n",
    " 2      # some code\n",
    " 3  \n",
    " 4  def function_two():\n",
    " \n",
    "76  def function_N():\n",
    "77      # some code\n",
    "78  \n",
    "79  def main():\n",
    "80      # the starting point of the program\n",
    "81  \n",
    "82  main()"
   ]
  }
 ],
 "metadata": {
  "kernelspec": {
   "display_name": "Python 3",
   "language": "python",
   "name": "python3"
  },
  "language_info": {
   "codemirror_mode": {
    "name": "ipython",
    "version": 3
   },
   "file_extension": ".py",
   "mimetype": "text/x-python",
   "name": "python",
   "nbconvert_exporter": "python",
   "pygments_lexer": "ipython3",
   "version": "3.12.2"
  }
 },
 "nbformat": 4,
 "nbformat_minor": 2
}
