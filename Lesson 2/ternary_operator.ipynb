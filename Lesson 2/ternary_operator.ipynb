{
 "cells": [
  {
   "cell_type": "code",
   "execution_count": null,
   "metadata": {},
   "outputs": [],
   "source": [
    "x = 5\n",
    "y = 10\n",
    "result = \"x is greater\" if x > y else \"y is greater\"\n",
    "print(result)  # Output: \"y is greater\""
   ]
  },
  {
   "cell_type": "code",
   "execution_count": null,
   "metadata": {},
   "outputs": [],
   "source": [
    "def check_even(num):\n",
    "    return \"Even\" if num % 2 == 0 else \"Odd\"\n",
    "\n",
    "print(check_even(4))  # Output: \"Even\"\n",
    "print(check_even(7))  # Output: \"Odd\""
   ]
  },
  {
   "cell_type": "code",
   "execution_count": null,
   "metadata": {},
   "outputs": [],
   "source": [
    "numbers = [1, 2, 3, 4, 5]\n",
    "even_or_odd = [\"Even\" if num % 2 == 0 else \"Odd\" for num in numbers]\n",
    "print(even_or_odd)  # Output: ['Odd', 'Even', 'Odd', 'Even', 'Odd']"
   ]
  },
  {
   "cell_type": "code",
   "execution_count": null,
   "metadata": {},
   "outputs": [],
   "source": [
    "num = 7\n",
    "result = \"Even\" if num % 2 == 0 else (\"Multiple of 3\" if num % 3 == 0 else \"Neither\")\n",
    "print(result)  # Output: \"Neither\""
   ]
  },
  {
   "cell_type": "code",
   "execution_count": null,
   "metadata": {},
   "outputs": [],
   "source": [
    "name = None\n",
    "result = name if name is not None else \"Guest\"\n",
    "print(result)  # Output: \"Guest\"\n"
   ]
  },
  {
   "cell_type": "code",
   "execution_count": null,
   "metadata": {},
   "outputs": [],
   "source": [
    "def greet(name):\n",
    "    return f\"Hello, {name}!\"\n",
    "\n",
    "user_name = \"Alice\"\n",
    "message = greet(user_name) if user_name else \"Hello, Guest!\"\n",
    "print(message)  # Output: \"Hello, Alice!\"\n"
   ]
  }
 ],
 "metadata": {
  "language_info": {
   "name": "python"
  }
 },
 "nbformat": 4,
 "nbformat_minor": 2
}
