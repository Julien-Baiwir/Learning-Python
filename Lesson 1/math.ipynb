{
 "cells": [
  {
   "cell_type": "markdown",
   "metadata": {},
   "source": [
    "A + B adds two numbers together\n",
    "A - B subtracts the value B from A\n",
    "A / B divides A by the value B\n",
    "A * B multiplies A by b\n",
    "A ** B raises A to the Bth power\n",
    "A % B gives the remainder of the operation of dividing A by B"
   ]
  },
  {
   "cell_type": "code",
   "execution_count": 1,
   "metadata": {},
   "outputs": [
    {
     "name": "stdout",
     "output_type": "stream",
     "text": [
      "140 150.0\n"
     ]
    }
   ],
   "source": [
    "x = 100 + 20 * 2\n",
    "y = 200 - 100 / 2\n",
    "print(x, y)"
   ]
  },
  {
   "cell_type": "markdown",
   "metadata": {},
   "source": [
    "(1) Parentheses\n",
    "(2) Exponents next\n",
    "(3) Multiplication, Division, and Modulus (%) are tied\n",
    "(4) Addition and Subtraction are tied at the bottom"
   ]
  },
  {
   "cell_type": "code",
   "execution_count": null,
   "metadata": {},
   "outputs": [],
   "source": [
    "x = 100 + 100\n",
    "y = 100 / 2\n",
    "print( type(x) )\n",
    "print( type(y) )"
   ]
  },
  {
   "cell_type": "markdown",
   "metadata": {},
   "source": [
    "The problem is that python does not support string multiplication with floats! "
   ]
  },
  {
   "cell_type": "code",
   "execution_count": null,
   "metadata": {},
   "outputs": [],
   "source": [
    "revenue = int(input('Business revenue: '))\n",
    "cost = int(input('Business costs: '))\n",
    "profit = revenue - cost\n",
    "print('The business profit is: ' + str(profit))\n",
    "cost_bar = '#' * int((cost / revenue) * 25)\n",
    "profit_bar = '#' * int((profit / revenue) * 25)\n",
    "print('  cost: ' + cost_bar)\n",
    "print('profit: ' + profit_bar)"
   ]
  },
  {
   "cell_type": "markdown",
   "metadata": {},
   "source": [
    "  File \"/..../test.py\", line 5, in <module>\n",
    "    cost_bar = '#' * (cost / revenue) * 25\n",
    "TypeError: can't multiply sequence by non-int of type 'float'"
   ]
  }
 ],
 "metadata": {
  "kernelspec": {
   "display_name": "Python 3",
   "language": "python",
   "name": "python3"
  },
  "language_info": {
   "codemirror_mode": {
    "name": "ipython",
    "version": 3
   },
   "file_extension": ".py",
   "mimetype": "text/x-python",
   "name": "python",
   "nbconvert_exporter": "python",
   "pygments_lexer": "ipython3",
   "version": "3.12.2"
  }
 },
 "nbformat": 4,
 "nbformat_minor": 2
}
