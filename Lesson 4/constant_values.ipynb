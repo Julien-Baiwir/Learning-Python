{
 "cells": [
  {
   "cell_type": "markdown",
   "metadata": {},
   "source": [
    "In Python, there is a special convention for designating that a variable represents a constant value that will remain unchanged for the entire execution. The convention is that we name these variables with ALL UPPER CASE names."
   ]
  },
  {
   "cell_type": "code",
   "execution_count": null,
   "metadata": {},
   "outputs": [],
   "source": [
    "PI = 3.1459\n",
    "radius = float(input('What is the radius of the circle? '))\n",
    "area = PI * (radius ** 2)\n",
    "print('The area is:', area)"
   ]
  },
  {
   "cell_type": "code",
   "execution_count": null,
   "metadata": {},
   "outputs": [],
   "source": [
    "DAYS_PER_WEEK = 7\n",
    "WEEKS_IN_YEAR = 52\n",
    "DAYS_PER_MONTH = 30 # Approximation :)\n",
    "MONTHS_IN_YEAR = 12\n",
    "\n",
    "def print_week(days_passed):\n",
    "    week_number = int(days_passed / DAYS_PER_WEEK)\n",
    "    print('We are in week', week_number, 'out of', WEEKS_IN_YEAR, 'total.')\n",
    "\n",
    "def print_day_week_month(days_passed):\n",
    "    week_number = int(days_passed / DAYS_PER_WEEK)\n",
    "    month_number = int(days_passed / DAYS_PER_MONTH)\n",
    "    print('Day:', days_passed)\n",
    "    print('Week', week_number, 'of', WEEKS_IN_YEAR)\n",
    "    print('Month', month_number, 'of', MONTHS_IN_YEAR)"
   ]
  },
  {
   "cell_type": "code",
   "execution_count": null,
   "metadata": {},
   "outputs": [],
   "source": [
    "def print_day_week_month(days_passed):\n",
    "    week_number = int(days_passed / 7)\n",
    "    month_number = int(days_passed / 30)\n",
    "    print('Day:', days_passed)\n",
    "    print('Week', week_number, 'of', 52)\n",
    "    print('Month', month_number, 'of', 12)"
   ]
  },
  {
   "cell_type": "markdown",
   "metadata": {},
   "source": [
    "When the literal values 7, 30, 52, and 12 are used, the calculations being performed are not immediately as clear. Having and using well-named constants is a form of self-documentation - code that is clear enough that it does not need an additional comment to explain what is going on. When you write code going forward, consider what values in your program can be made into constants, and then follow these conventions."
   ]
  }
 ],
 "metadata": {
  "kernelspec": {
   "display_name": "Python 3",
   "language": "python",
   "name": "python3"
  },
  "language_info": {
   "codemirror_mode": {
    "name": "ipython",
    "version": 3
   },
   "file_extension": ".py",
   "mimetype": "text/x-python",
   "name": "python",
   "nbconvert_exporter": "python",
   "pygments_lexer": "ipython3",
   "version": "3.12.2"
  }
 },
 "nbformat": 4,
 "nbformat_minor": 2
}
