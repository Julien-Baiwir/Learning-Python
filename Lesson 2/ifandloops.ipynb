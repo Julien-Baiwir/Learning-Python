{
 "cells": [
  {
   "cell_type": "markdown",
   "metadata": {},
   "source": [
    "Combining If-Statements and Loops"
   ]
  },
  {
   "cell_type": "markdown",
   "metadata": {},
   "source": [
    "Counting Letters"
   ]
  },
  {
   "cell_type": "code",
   "execution_count": 1,
   "metadata": {},
   "outputs": [],
   "source": [
    "text = input('Type some text and then press ENTER: ')\n",
    "uppercase_count = 0\n",
    "lowercase_count = 0\n",
    "for index in range(0, len(text)):\n",
    "    char = text[index]\n",
    "    if char.isupper():\n",
    "        uppercase_count += 1\n",
    "    elif char.islower():\n",
    "        lowercase_count += 1\n",
    "print(\"Number of upper-case letters:\", uppercase_count)\n",
    "print(\"Number of lower-case letters:\", lowercase_count)"
   ]
  },
  {
   "cell_type": "markdown",
   "metadata": {},
   "source": [
    "Divisible by 7"
   ]
  },
  {
   "cell_type": "code",
   "execution_count": null,
   "metadata": {},
   "outputs": [],
   "source": [
    "start = int(input('What value should we start at? '))\n",
    "end = int(input('What value should we end at? '))\n",
    "number = start\n",
    "while number <= end:\n",
    "    if number % 7 == 0:\n",
    "        print(number, 'is divisible by', 7)\n",
    "    number += 1"
   ]
  },
  {
   "cell_type": "code",
   "execution_count": null,
   "metadata": {},
   "outputs": [],
   "source": [
    "start = int(input('What value should we start at? '))\n",
    "end = int(input('What value should we end at? '))\n",
    "divide = int(input('What number to check divisibility for? '))\n",
    "number = start\n",
    "while number <= end:\n",
    "    if number % divide == 0:\n",
    "        print(number, 'is divisible by', divide)\n",
    "    number += 1"
   ]
  }
 ],
 "metadata": {
  "kernelspec": {
   "display_name": "Python 3",
   "language": "python",
   "name": "python3"
  },
  "language_info": {
   "codemirror_mode": {
    "name": "ipython",
    "version": 3
   },
   "file_extension": ".py",
   "mimetype": "text/x-python",
   "name": "python",
   "nbconvert_exporter": "python",
   "pygments_lexer": "ipython3",
   "version": "3.12.2"
  }
 },
 "nbformat": 4,
 "nbformat_minor": 2
}
