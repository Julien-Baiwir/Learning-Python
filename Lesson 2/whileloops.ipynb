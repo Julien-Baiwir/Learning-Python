{
 "cells": [
  {
   "cell_type": "markdown",
   "metadata": {},
   "source": [
    "While Loop"
   ]
  },
  {
   "cell_type": "code",
   "execution_count": null,
   "metadata": {},
   "outputs": [],
   "source": [
    "word = input('Give me a word: ')\n",
    "upper_word = word.upper()\n",
    "print('The word in upper-case: ' + upper_word)"
   ]
  },
  {
   "cell_type": "code",
   "execution_count": null,
   "metadata": {},
   "outputs": [],
   "source": [
    "word = input('Give me a word: ')\n",
    "upper_word = word.upper()\n",
    "print('The word in upper-case: ' + upper_word)\n",
    "\n",
    "word = input('Give me a word: ')\n",
    "upper_word = word.upper()\n",
    "print('The word in upper-case: ' + upper_word)\n",
    "\n",
    "word = input('Give me a word: ')\n",
    "upper_word = word.upper()\n",
    "print('The word in upper-case: ' + upper_word)"
   ]
  },
  {
   "cell_type": "code",
   "execution_count": null,
   "metadata": {},
   "outputs": [],
   "source": [
    "repeat_count = 1\n",
    "while repeat_count <= 3:\n",
    "    repeat_count += 1\n",
    "    word = input('Give me a word: ')\n",
    "    upper_word = word.upper()\n",
    "    print('The word in upper-case: ' + upper_word)"
   ]
  },
  {
   "cell_type": "markdown",
   "metadata": {},
   "source": [
    "While Loop: Index-Variable Pattern"
   ]
  },
  {
   "cell_type": "code",
   "execution_count": null,
   "metadata": {},
   "outputs": [],
   "source": [
    "index = 0          # PART 1: Declare an \"index\" variable\n",
    "while index < 10:  # PART 2: Compare index to a value in the condition\n",
    "    print(\"hi\")    # PART 3: The code to run (can be multiple lines)\n",
    "    index += 1 "
   ]
  },
  {
   "cell_type": "code",
   "execution_count": 2,
   "metadata": {},
   "outputs": [
    {
     "name": "stdout",
     "output_type": "stream",
     "text": [
      "The sum is: 500500\n"
     ]
    }
   ],
   "source": [
    "number_sum = 0\n",
    "index = 1\n",
    "while index <= 1000:\n",
    "    number_sum += index\n",
    "    index += 1\n",
    "print(\"The sum is:\", number_sum)"
   ]
  },
  {
   "cell_type": "code",
   "execution_count": 3,
   "metadata": {},
   "outputs": [
    {
     "name": "stdout",
     "output_type": "stream",
     "text": [
      "         ##\n",
      "        ####\n",
      "       ######\n",
      "      ########\n",
      "     ##########\n",
      "    ############\n",
      "   ##############\n",
      "  ################\n",
      " ##################\n",
      "####################\n"
     ]
    }
   ],
   "source": [
    "pyramid_size = 10\n",
    "i = 1\n",
    "while i <= pyramid_size:\n",
    "    spacing = pyramid_size - i\n",
    "    print(\" \" * spacing + \"#\" * (i*2))\n",
    "    i += 1"
   ]
  },
  {
   "cell_type": "markdown",
   "metadata": {},
   "source": [
    "While Loop Nesting"
   ]
  },
  {
   "cell_type": "code",
   "execution_count": null,
   "metadata": {},
   "outputs": [],
   "source": [
    "i = 0\n",
    "while i < 10:\n",
    "       j = 0\n",
    "       while j < 10:\n",
    "           print(\"hi\")\n",
    "           j += 1\n",
    "       i += 1\n",
    "print(\"done\")"
   ]
  },
  {
   "cell_type": "code",
   "execution_count": null,
   "metadata": {},
   "outputs": [],
   "source": [
    "Subsequences"
   ]
  },
  {
   "cell_type": "code",
   "execution_count": null,
   "metadata": {},
   "outputs": [],
   "source": [
    "sentence = 'There once lived a bee in a house by the sea.'\n",
    "index = 0\n",
    "while index < 10:\n",
    "    print(sentence[index], end='')\n",
    "    index += 1"
   ]
  },
  {
   "cell_type": "code",
   "execution_count": null,
   "metadata": {},
   "outputs": [],
   "source": [
    "sentence = 'There once lived a bee in a house by the sea.'\n",
    "position = 0\n",
    "while position < len(sentence)-10:\n",
    "    index = position\n",
    "    while index < position+10:\n",
    "        print(sentence[index], end='')\n",
    "        index += 1\n",
    "    print()\n",
    "    position += 1"
   ]
  },
  {
   "cell_type": "markdown",
   "metadata": {},
   "source": [
    "While or For? Which one to choose?\n",
    "In the previous few lessons, you’ve been exposed to both while loops and for loops. Though there are some important differences, both of these programming features can be used to accomplish the same basic task: Repeat code some number of times. This leads to some questions such as:\n",
    "\n",
    "(A) Why do both features exist? Why not just have one or the other?\n",
    "(B) How do I know which to choose when I’m working on a program?\n",
    "(C) Is one better than the other?\n",
    "The answer to (A) is multi-faceted. In part, both exist due to historical reasons. Many other programming languages that came before python have included both types of loops. Other very popular (and older) languages such as C and Java, have both of these features. Thus, for the sake of making this familiar to programmers, Python has included both.\n",
    "\n",
    "However, this is not the only reason they both exist. Though they both allow the user to repeat code, they both do so in different ways.\n",
    "\n",
    "With while-loops, the repetition is based on checking a condition. A while loop can be thought of as a repeating if-statement. There are times where logically, it makes more sense to use a while-loop. On the other hand, a for-loop is used to iterate through sequences. In a previous lesson, you say an example of a for-loop iterating through a specified range of values. For loops can also be used for iterating through the characters of a string (which you’ll see in the next lesson) or through the elements of a list (which you’ll see in a much later lesson).\n",
    "\n",
    "As for the answer to (B), each kind of loop has its unique pros and cons. As you become a more experienced programmer, you’ll start to get a feel for when one is a more reasonable choice than the other. You’ll see many examples throughout the rest of the lessons in this book of both while loops and for loops.\n",
    "\n",
    "The answer to (C) is “no.” It really just depends on the context."
   ]
  }
 ],
 "metadata": {
  "kernelspec": {
   "display_name": "Python 3",
   "language": "python",
   "name": "python3"
  },
  "language_info": {
   "codemirror_mode": {
    "name": "ipython",
    "version": 3
   },
   "file_extension": ".py",
   "mimetype": "text/x-python",
   "name": "python",
   "nbconvert_exporter": "python",
   "pygments_lexer": "ipython3",
   "version": "3.12.2"
  }
 },
 "nbformat": 4,
 "nbformat_minor": 2
}
