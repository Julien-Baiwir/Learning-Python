{
 "cells": [
  {
   "cell_type": "markdown",
   "metadata": {},
   "source": []
  },
  {
   "cell_type": "markdown",
   "metadata": {},
   "source": [
    "Iterate Through Strings"
   ]
  },
  {
   "cell_type": "code",
   "execution_count": null,
   "metadata": {},
   "outputs": [],
   "source": [
    "string = 'The big brown fox'\n",
    "i = 0\n",
    "while i < len(string):\n",
    "    print(string[i])\n",
    "    i += 1"
   ]
  },
  {
   "cell_type": "code",
   "execution_count": null,
   "metadata": {},
   "outputs": [],
   "source": [
    "string = 'The big brown fox'\n",
    "for i in range(0, len(string)):\n",
    "    print(string[i])"
   ]
  },
  {
   "cell_type": "markdown",
   "metadata": {},
   "source": [
    "sans les espaces:"
   ]
  },
  {
   "cell_type": "code",
   "execution_count": null,
   "metadata": {},
   "outputs": [],
   "source": [
    "string = 'The big brown fox'\n",
    "\n",
    "for char in string:\n",
    "    if char != ' ':\n",
    "        print(char)\n"
   ]
  },
  {
   "cell_type": "code",
   "execution_count": null,
   "metadata": {},
   "outputs": [],
   "source": [
    "phone = input('Enter your phone number: ')\n",
    "if len(phone) != 11:\n",
    "    print('Invalid phone number!')"
   ]
  },
  {
   "cell_type": "code",
   "execution_count": null,
   "metadata": {},
   "outputs": [],
   "source": [
    "if phone[3] != '-' or phone[7] != '-':\n",
    "    print('Invalid phone number!')"
   ]
  },
  {
   "cell_type": "code",
   "execution_count": null,
   "metadata": {},
   "outputs": [],
   "source": [
    "for i in range(0, 11)\n",
    "    if phone[i].isdigit() == False\n",
    "    print('Invalid Phone Number')"
   ]
  },
  {
   "cell_type": "code",
   "execution_count": null,
   "metadata": {},
   "outputs": [],
   "source": [
    "for i in range(0, 11):\n",
    "    if i != 3 and i != 6 and phone[i].isdigit() == False:\n",
    "        print('Invalid phone number!')"
   ]
  },
  {
   "cell_type": "code",
   "execution_count": null,
   "metadata": {},
   "outputs": [],
   "source": [
    "phone = input('Enter your phone number: ')\n",
    "\n",
    "# Check to ensire that what the user gave us is 11 characters\n",
    "if len(phone) != 11:\n",
    "    print('Invalid phone number!')\n",
    "    exit()\n",
    "\n",
    "# Ensure that the dashes are in the correct locations\n",
    "if phone[3] != '-' or phone[7] != '-':\n",
    "    print('Invalid phone number!')\n",
    "    exit()\n",
    "\n",
    "# Ensure every other character is a digit\n",
    "for i in range(0, 11):\n",
    "    if i != 3 and i != 6 and phone[i].isdigit() == False:\n",
    "        print('Invalid phone number!')\n",
    "        exit()\n",
    "\n",
    "print('Valid phone number!')"
   ]
  }
 ],
 "metadata": {
  "kernelspec": {
   "display_name": "Python 3",
   "language": "python",
   "name": "python3"
  },
  "language_info": {
   "codemirror_mode": {
    "name": "ipython",
    "version": 3
   },
   "file_extension": ".py",
   "mimetype": "text/x-python",
   "name": "python",
   "nbconvert_exporter": "python",
   "pygments_lexer": "ipython3",
   "version": "3.12.2"
  }
 },
 "nbformat": 4,
 "nbformat_minor": 2
}
