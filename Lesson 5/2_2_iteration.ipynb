{
 "cells": [
  {
   "cell_type": "markdown",
   "metadata": {},
   "source": [
    "Iteration through Dictionaries"
   ]
  },
  {
   "cell_type": "code",
   "execution_count": 2,
   "metadata": {},
   "outputs": [
    {
     "name": "stdout",
     "output_type": "stream",
     "text": [
      "protein bar 200\n",
      "apple 50\n",
      "banana 110\n"
     ]
    }
   ],
   "source": [
    "pantry = {'protein bar': 200, 'apple': 50, 'banana':110 }\n",
    "for key in pantry:\n",
    "    print(key, pantry[key])"
   ]
  },
  {
   "cell_type": "code",
   "execution_count": 4,
   "metadata": {},
   "outputs": [
    {
     "name": "stdout",
     "output_type": "stream",
     "text": [
      "protein bar 200\n",
      "apple 50\n",
      "banana 110\n"
     ]
    }
   ],
   "source": [
    "pantry = {'protein bar': 200, 'apple': 50, 'banana':110 }\n",
    "for food, calories in pantry.items(): \n",
    "    print(food, calories)"
   ]
  },
  {
   "cell_type": "code",
   "execution_count": null,
   "metadata": {},
   "outputs": [],
   "source": [
    "def show_food(pantry):\n",
    "    for key in pantry:\n",
    "        print(key, '->', pantry[key])"
   ]
  },
  {
   "cell_type": "code",
   "execution_count": null,
   "metadata": {},
   "outputs": [],
   "source": [
    "def show_food_below_threshold(pantry, threshold):\n",
    "    counter = 0\n",
    "    for food, cals in pantry.items():\n",
    "        if cals<threshold:\n",
    "            print(food, '->', cals)\n",
    "        if counter > 2:\n",
    "            return"
   ]
  }
 ],
 "metadata": {
  "kernelspec": {
   "display_name": "Python 3",
   "language": "python",
   "name": "python3"
  },
  "language_info": {
   "codemirror_mode": {
    "name": "ipython",
    "version": 3
   },
   "file_extension": ".py",
   "mimetype": "text/x-python",
   "name": "python",
   "nbconvert_exporter": "python",
   "pygments_lexer": "ipython3",
   "version": "3.12.2"
  }
 },
 "nbformat": 4,
 "nbformat_minor": 2
}
