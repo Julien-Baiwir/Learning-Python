{
 "cells": [
  {
   "cell_type": "markdown",
   "metadata": {},
   "source": [
    "Python is an object-oriented language.\n",
    "In this code, two objects are created: "
   ]
  },
  {
   "cell_type": "code",
   "execution_count": null,
   "metadata": {},
   "outputs": [],
   "source": [
    "animal = 'Antelope'\n",
    "y = 10.4\n",
    "\"\"\"References = Objects \"\"\""
   ]
  },
  {
   "cell_type": "code",
   "execution_count": null,
   "metadata": {},
   "outputs": [],
   "source": [
    "animal = 'zebra'\n",
    "animal = 'lion'\n",
    "animal = 'giraffe'"
   ]
  },
  {
   "cell_type": "markdown",
   "metadata": {},
   "source": [
    "The animal variable (which is a reference) can only “refer” to one object in the computers memory at a time. "
   ]
  },
  {
   "cell_type": "markdown",
   "metadata": {},
   "source": [
    "Python has a built in feature called the garbage collector which is piece of software responsible for tracking all of the objects a Python program creates while running them, and tracking how many references each one has pointing at it. The garbage collector will do periodic checks of all the objects and determine which ones have “gone rogue” like this.\n",
    "\n",
    "Python even exposes module called gh to allow the programmer to control and tune the behavior of the garbage collector. In the situation from the example above (with the rogue 'zebra' and 'lion' objects), the garbage collector would eventually see that these objects are no longer needed and clean them up."
   ]
  },
  {
   "cell_type": "code",
   "execution_count": null,
   "metadata": {},
   "outputs": [],
   "source": [
    "def process(x):\n",
    "    print('Here is the string: ')\n",
    "    print(x)\n",
    "\n",
    "animal = 'giraffe'\n",
    "process(animal)\n"
   ]
  },
  {
   "cell_type": "markdown",
   "metadata": {},
   "source": [
    "However, strings (as with ints and floats) are an immutable type. This means that once a string object is created, it cannot be modified. Therefore, if the function attempts to “modify” the x variable, it will leave the original object intact and create a new one. Thus, if we had this code instead:"
   ]
  },
  {
   "cell_type": "code",
   "execution_count": null,
   "metadata": {},
   "outputs": [],
   "source": [
    "def process(x):\n",
    "    x += 's'\n",
    "    print(x)\n",
    "\n",
    "animal = 'giraffe'\n",
    "process(animal)"
   ]
  },
  {
   "cell_type": "markdown",
   "metadata": {},
   "source": [
    "However, some types are mutable (meaning they can be changed after initial creation). Lists, dictionaries, and sets are all mutable"
   ]
  },
  {
   "cell_type": "code",
   "execution_count": 3,
   "metadata": {},
   "outputs": [
    {
     "name": "stdout",
     "output_type": "stream",
     "text": [
      "['giraffe', 'lion', 'zebra']\n",
      "['giraffe', 'lion', 'zebra']\n"
     ]
    }
   ],
   "source": [
    "def process(x):\n",
    "    x.append('zebra')\n",
    "    print(x)\n",
    "\n",
    "animals = ['giraffe', 'lion']\n",
    "process(animals)\n",
    "print(animals)\n"
   ]
  },
  {
   "cell_type": "markdown",
   "metadata": {},
   "source": [
    "When this program is run, both the print within the function and the one outside will print out ['giraffe', 'lion', 'zebra']."
   ]
  },
  {
   "cell_type": "markdown",
   "metadata": {},
   "source": [
    "Python has an id() function that allows us to ask for the ID number of the object that a variable points to. This is useful to help see which objects are the same as each-other and which differ. Using this function can confirm what is going on with these examples with a function. Consider these two programs:"
   ]
  },
  {
   "cell_type": "code",
   "execution_count": null,
   "metadata": {},
   "outputs": [],
   "source": [
    "def process(x):\n",
    "    print('ID A:', id(x))\n",
    "    x += 's'\n",
    "    print('ID B:', id(x))\n",
    "\n",
    "animal = 'giraffe'\n",
    "process(animal)\n",
    "print('ID C:', id(animal))"
   ]
  },
  {
   "cell_type": "code",
   "execution_count": null,
   "metadata": {},
   "outputs": [],
   "source": [
    "def process(x):\n",
    "    print('ID A:', id(x))\n",
    "    x.append('zebra')\n",
    "    print('ID B:', id(x))\n",
    "\n",
    "animals = ['giraffe', 'lion']\n",
    "process(animal)\n",
    "print('ID C:', id(animals))"
   ]
  },
  {
   "cell_type": "markdown",
   "metadata": {},
   "source": [
    "When the first one is executed, ID’s A and C will print out the same number, but B will have a different value, due to it referring to a different string object than the other two. In the latter program, all three ID printouts will give the same number, because both variables reference the same object in memory."
   ]
  }
 ],
 "metadata": {
  "kernelspec": {
   "display_name": "Python 3",
   "language": "python",
   "name": "python3"
  },
  "language_info": {
   "codemirror_mode": {
    "name": "ipython",
    "version": 3
   },
   "file_extension": ".py",
   "mimetype": "text/x-python",
   "name": "python",
   "nbconvert_exporter": "python",
   "pygments_lexer": "ipython3",
   "version": "3.12.2"
  }
 },
 "nbformat": 4,
 "nbformat_minor": 2
}
